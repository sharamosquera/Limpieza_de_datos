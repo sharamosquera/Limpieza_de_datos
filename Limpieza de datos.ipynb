{
 "cells": [
  {
   "cell_type": "markdown",
   "metadata": {},
   "source": [
    "##### Cargar las librerías necesarias"
   ]
  },
  {
   "cell_type": "code",
   "execution_count": 24,
   "metadata": {},
   "outputs": [
    {
     "name": "stdout",
     "output_type": "stream",
     "text": [
      "Requirement already satisfied: pandas in c:\\users\\57322\\appdata\\local\\programs\\python\\python312\\lib\\site-packages (2.2.3)\n",
      "Requirement already satisfied: numpy in c:\\users\\57322\\appdata\\local\\programs\\python\\python312\\lib\\site-packages (2.1.3)\n",
      "Requirement already satisfied: matplotlib in c:\\users\\57322\\appdata\\local\\programs\\python\\python312\\lib\\site-packages (3.9.2)\n",
      "Requirement already satisfied: seaborn in c:\\users\\57322\\appdata\\local\\programs\\python\\python312\\lib\\site-packages (0.13.2)\n",
      "Requirement already satisfied: python-dateutil>=2.8.2 in c:\\users\\57322\\appdata\\roaming\\python\\python312\\site-packages (from pandas) (2.9.0.post0)\n",
      "Requirement already satisfied: pytz>=2020.1 in c:\\users\\57322\\appdata\\local\\programs\\python\\python312\\lib\\site-packages (from pandas) (2024.2)\n",
      "Requirement already satisfied: tzdata>=2022.7 in c:\\users\\57322\\appdata\\local\\programs\\python\\python312\\lib\\site-packages (from pandas) (2024.2)\n",
      "Requirement already satisfied: contourpy>=1.0.1 in c:\\users\\57322\\appdata\\local\\programs\\python\\python312\\lib\\site-packages (from matplotlib) (1.3.1)\n",
      "Requirement already satisfied: cycler>=0.10 in c:\\users\\57322\\appdata\\local\\programs\\python\\python312\\lib\\site-packages (from matplotlib) (0.12.1)\n",
      "Requirement already satisfied: fonttools>=4.22.0 in c:\\users\\57322\\appdata\\local\\programs\\python\\python312\\lib\\site-packages (from matplotlib) (4.54.1)\n",
      "Requirement already satisfied: kiwisolver>=1.3.1 in c:\\users\\57322\\appdata\\local\\programs\\python\\python312\\lib\\site-packages (from matplotlib) (1.4.7)\n",
      "Requirement already satisfied: packaging>=20.0 in c:\\users\\57322\\appdata\\roaming\\python\\python312\\site-packages (from matplotlib) (24.2)\n",
      "Requirement already satisfied: pillow>=8 in c:\\users\\57322\\appdata\\local\\programs\\python\\python312\\lib\\site-packages (from matplotlib) (11.0.0)\n",
      "Requirement already satisfied: pyparsing>=2.3.1 in c:\\users\\57322\\appdata\\local\\programs\\python\\python312\\lib\\site-packages (from matplotlib) (3.2.0)\n",
      "Requirement already satisfied: six>=1.5 in c:\\users\\57322\\appdata\\roaming\\python\\python312\\site-packages (from python-dateutil>=2.8.2->pandas) (1.16.0)\n"
     ]
    }
   ],
   "source": [
    "!pip install pandas numpy matplotlib seaborn\n",
    "import pandas as pd\n",
    "import numpy as np\n",
    "import matplotlib.pyplot as plt\n",
    "import seaborn as sns"
   ]
  },
  {
   "cell_type": "code",
   "execution_count": 2,
   "metadata": {},
   "outputs": [
    {
     "name": "stderr",
     "output_type": "stream",
     "text": [
      "c:\\Users\\57322\\AppData\\Local\\Programs\\Python\\Python312\\Lib\\site-packages\\tqdm\\auto.py:21: TqdmWarning: IProgress not found. Please update jupyter and ipywidgets. See https://ipywidgets.readthedocs.io/en/stable/user_install.html\n",
      "  from .autonotebook import tqdm as notebook_tqdm\n"
     ]
    },
    {
     "name": "stdout",
     "output_type": "stream",
     "text": [
      "Requirement already satisfied: kaggle in c:\\users\\57322\\appdata\\local\\programs\\python\\python312\\lib\\site-packages (1.6.17)\n",
      "Requirement already satisfied: six>=1.10 in c:\\users\\57322\\appdata\\roaming\\python\\python312\\site-packages (from kaggle) (1.16.0)\n",
      "Requirement already satisfied: certifi>=2023.7.22 in c:\\users\\57322\\appdata\\local\\programs\\python\\python312\\lib\\site-packages (from kaggle) (2024.8.30)\n",
      "Requirement already satisfied: python-dateutil in c:\\users\\57322\\appdata\\roaming\\python\\python312\\site-packages (from kaggle) (2.9.0.post0)\n",
      "Requirement already satisfied: requests in c:\\users\\57322\\appdata\\local\\programs\\python\\python312\\lib\\site-packages (from kaggle) (2.32.3)\n",
      "Requirement already satisfied: tqdm in c:\\users\\57322\\appdata\\local\\programs\\python\\python312\\lib\\site-packages (from kaggle) (4.67.0)\n",
      "Requirement already satisfied: python-slugify in c:\\users\\57322\\appdata\\local\\programs\\python\\python312\\lib\\site-packages (from kaggle) (8.0.4)\n",
      "Requirement already satisfied: urllib3 in c:\\users\\57322\\appdata\\local\\programs\\python\\python312\\lib\\site-packages (from kaggle) (2.2.3)\n",
      "Requirement already satisfied: bleach in c:\\users\\57322\\appdata\\local\\programs\\python\\python312\\lib\\site-packages (from kaggle) (6.2.0)\n",
      "Requirement already satisfied: webencodings in c:\\users\\57322\\appdata\\local\\programs\\python\\python312\\lib\\site-packages (from bleach->kaggle) (0.5.1)\n",
      "Requirement already satisfied: text-unidecode>=1.3 in c:\\users\\57322\\appdata\\local\\programs\\python\\python312\\lib\\site-packages (from python-slugify->kaggle) (1.3)\n",
      "Requirement already satisfied: charset-normalizer<4,>=2 in c:\\users\\57322\\appdata\\local\\programs\\python\\python312\\lib\\site-packages (from requests->kaggle) (3.4.0)\n",
      "Requirement already satisfied: idna<4,>=2.5 in c:\\users\\57322\\appdata\\local\\programs\\python\\python312\\lib\\site-packages (from requests->kaggle) (3.10)\n",
      "Requirement already satisfied: colorama in c:\\users\\57322\\appdata\\roaming\\python\\python312\\site-packages (from tqdm->kaggle) (0.4.6)\n",
      "Requirement already satisfied: kaggle in c:\\users\\57322\\appdata\\local\\programs\\python\\python312\\lib\\site-packages (1.6.17)\n",
      "Collecting kaggle-cli\n",
      "  Using cached kaggle_cli-0.12.13-py3-none-any.whl\n",
      "Requirement already satisfied: six>=1.10 in c:\\users\\57322\\appdata\\roaming\\python\\python312\\site-packages (from kaggle) (1.16.0)\n",
      "Requirement already satisfied: certifi>=2023.7.22 in c:\\users\\57322\\appdata\\local\\programs\\python\\python312\\lib\\site-packages (from kaggle) (2024.8.30)\n",
      "Requirement already satisfied: python-dateutil in c:\\users\\57322\\appdata\\roaming\\python\\python312\\site-packages (from kaggle) (2.9.0.post0)\n",
      "Requirement already satisfied: requests in c:\\users\\57322\\appdata\\local\\programs\\python\\python312\\lib\\site-packages (from kaggle) (2.32.3)\n",
      "Requirement already satisfied: tqdm in c:\\users\\57322\\appdata\\local\\programs\\python\\python312\\lib\\site-packages (from kaggle) (4.67.0)\n",
      "Requirement already satisfied: python-slugify in c:\\users\\57322\\appdata\\local\\programs\\python\\python312\\lib\\site-packages (from kaggle) (8.0.4)\n",
      "Requirement already satisfied: urllib3 in c:\\users\\57322\\appdata\\local\\programs\\python\\python312\\lib\\site-packages (from kaggle) (2.2.3)\n",
      "Requirement already satisfied: bleach in c:\\users\\57322\\appdata\\local\\programs\\python\\python312\\lib\\site-packages (from kaggle) (6.2.0)\n",
      "Collecting cliff<2.9,>=2.8.0 (from kaggle-cli)\n",
      "  Using cached cliff-2.8.3-py2.py3-none-any.whl.metadata (2.0 kB)\n",
      "Collecting MechanicalSoup<0.9,>=0.7.0 (from kaggle-cli)\n",
      "  Using cached MechanicalSoup-0.8.0-py2.py3-none-any.whl.metadata (795 bytes)\n",
      "Collecting lxml<4.1,>=4.0.0 (from kaggle-cli)\n",
      "  Using cached lxml-4.0.0.tar.gz (4.2 MB)\n",
      "  Installing build dependencies: started\n",
      "  Installing build dependencies: still running...\n",
      "  Installing build dependencies: finished with status 'done'\n",
      "  Getting requirements to build wheel: started\n",
      "  Getting requirements to build wheel: finished with status 'done'\n",
      "  Preparing metadata (pyproject.toml): started\n",
      "  Preparing metadata (pyproject.toml): finished with status 'done'\n",
      "Collecting cssselect<1.1,>=1.0.1 (from kaggle-cli)\n",
      "  Using cached cssselect-1.0.3-py2.py3-none-any.whl.metadata (2.3 kB)\n",
      "Collecting configparser (from kaggle-cli)\n",
      "  Using cached configparser-7.1.0-py3-none-any.whl.metadata (5.4 kB)\n",
      "Collecting progressbar2<3.35,>=3.34.3 (from kaggle-cli)\n",
      "  Using cached progressbar2-3.34.3-py2.py3-none-any.whl.metadata (10 kB)\n",
      "Collecting beautifulsoup4<4.7,>=4.6.0 (from kaggle-cli)\n",
      "  Using cached beautifulsoup4-4.6.3-py3-none-any.whl.metadata (3.0 kB)\n",
      "Collecting pbr!=2.1.0,>=2.0.0 (from cliff<2.9,>=2.8.0->kaggle-cli)\n",
      "  Using cached pbr-6.1.0-py2.py3-none-any.whl.metadata (3.4 kB)\n",
      "Collecting PrettyTable<0.8,>=0.7.1 (from cliff<2.9,>=2.8.0->kaggle-cli)\n",
      "  Using cached prettytable-0.7.2-py3-none-any.whl\n",
      "Requirement already satisfied: pyparsing>=2.1.0 in c:\\users\\57322\\appdata\\local\\programs\\python\\python312\\lib\\site-packages (from cliff<2.9,>=2.8.0->kaggle-cli) (3.2.0)\n",
      "Collecting stevedore>=1.20.0 (from cliff<2.9,>=2.8.0->kaggle-cli)\n",
      "  Using cached stevedore-5.3.0-py3-none-any.whl.metadata (2.3 kB)\n",
      "Collecting PyYAML>=3.10.0 (from cliff<2.9,>=2.8.0->kaggle-cli)\n",
      "  Using cached PyYAML-6.0.2-cp312-cp312-win_amd64.whl.metadata (2.1 kB)\n",
      "Collecting cmd2>=0.6.7 (from cliff<2.9,>=2.8.0->kaggle-cli)\n",
      "  Using cached cmd2-2.5.6-py3-none-any.whl.metadata (13 kB)\n",
      "Collecting python-utils>=2.1.0 (from progressbar2<3.35,>=3.34.3->kaggle-cli)\n",
      "  Using cached python_utils-3.9.0-py2.py3-none-any.whl.metadata (9.8 kB)\n",
      "Requirement already satisfied: charset-normalizer<4,>=2 in c:\\users\\57322\\appdata\\local\\programs\\python\\python312\\lib\\site-packages (from requests->kaggle) (3.4.0)\n",
      "Requirement already satisfied: idna<4,>=2.5 in c:\\users\\57322\\appdata\\local\\programs\\python\\python312\\lib\\site-packages (from requests->kaggle) (3.10)\n",
      "Requirement already satisfied: webencodings in c:\\users\\57322\\appdata\\local\\programs\\python\\python312\\lib\\site-packages (from bleach->kaggle) (0.5.1)\n",
      "Requirement already satisfied: text-unidecode>=1.3 in c:\\users\\57322\\appdata\\local\\programs\\python\\python312\\lib\\site-packages (from python-slugify->kaggle) (1.3)\n",
      "Requirement already satisfied: colorama in c:\\users\\57322\\appdata\\roaming\\python\\python312\\site-packages (from tqdm->kaggle) (0.4.6)\n",
      "Collecting pyperclip (from cmd2>=0.6.7->cliff<2.9,>=2.8.0->kaggle-cli)\n",
      "  Using cached pyperclip-1.9.0-py3-none-any.whl\n",
      "Requirement already satisfied: wcwidth in c:\\users\\57322\\appdata\\roaming\\python\\python312\\site-packages (from cmd2>=0.6.7->cliff<2.9,>=2.8.0->kaggle-cli) (0.2.13)\n",
      "Collecting pyreadline3 (from cmd2>=0.6.7->cliff<2.9,>=2.8.0->kaggle-cli)\n",
      "  Using cached pyreadline3-3.5.4-py3-none-any.whl.metadata (4.7 kB)\n",
      "Collecting typing-extensions>3.10.0.2 (from python-utils>=2.1.0->progressbar2<3.35,>=3.34.3->kaggle-cli)\n",
      "  Using cached typing_extensions-4.12.2-py3-none-any.whl.metadata (3.0 kB)\n",
      "Using cached beautifulsoup4-4.6.3-py3-none-any.whl (90 kB)\n",
      "Using cached cliff-2.8.3-py2.py3-none-any.whl (74 kB)\n",
      "Using cached cssselect-1.0.3-py2.py3-none-any.whl (16 kB)\n",
      "Using cached MechanicalSoup-0.8.0-py2.py3-none-any.whl (8.9 kB)\n",
      "Using cached progressbar2-3.34.3-py2.py3-none-any.whl (25 kB)\n",
      "Using cached configparser-7.1.0-py3-none-any.whl (17 kB)\n",
      "Using cached cmd2-2.5.6-py3-none-any.whl (151 kB)\n",
      "Using cached pbr-6.1.0-py2.py3-none-any.whl (108 kB)\n",
      "Using cached python_utils-3.9.0-py2.py3-none-any.whl (32 kB)\n",
      "Using cached PyYAML-6.0.2-cp312-cp312-win_amd64.whl (156 kB)\n",
      "Using cached stevedore-5.3.0-py3-none-any.whl (49 kB)\n",
      "Using cached typing_extensions-4.12.2-py3-none-any.whl (37 kB)\n",
      "Using cached pyreadline3-3.5.4-py3-none-any.whl (83 kB)\n",
      "Building wheels for collected packages: lxml\n",
      "  Building wheel for lxml (pyproject.toml): started\n",
      "  Building wheel for lxml (pyproject.toml): finished with status 'error'\n",
      "Failed to build lxml\n"
     ]
    },
    {
     "name": "stderr",
     "output_type": "stream",
     "text": [
      "  error: subprocess-exited-with-error\n",
      "  \n",
      "  × Building wheel for lxml (pyproject.toml) did not run successfully.\n",
      "  │ exit code: 1\n",
      "  ╰─> [75 lines of output]\n",
      "      Building lxml version 4.0.0.\n",
      "      <string>:61: DeprecationWarning: pkg_resources is deprecated as an API. See https://setuptools.pypa.io/en/latest/pkg_resources.html\n",
      "      Building without Cython.\n",
      "      ERROR: b'\"xslt-config\" no se reconoce como un comando interno o externo,\\r\\nprograma o archivo por lotes ejecutable.\\r\\n'\n",
      "      ** make sure the development packages of libxml2 and libxslt are installed **\n",
      "      \n",
      "      Using build configuration of libxslt\n",
      "      running bdist_wheel\n",
      "      running build\n",
      "      running build_py\n",
      "      creating build\\lib.win-amd64-cpython-312\\lxml\n",
      "      copying src\\lxml\\builder.py -> build\\lib.win-amd64-cpython-312\\lxml\n",
      "      copying src\\lxml\\cssselect.py -> build\\lib.win-amd64-cpython-312\\lxml\n",
      "      copying src\\lxml\\doctestcompare.py -> build\\lib.win-amd64-cpython-312\\lxml\n",
      "      copying src\\lxml\\ElementInclude.py -> build\\lib.win-amd64-cpython-312\\lxml\n",
      "      copying src\\lxml\\pyclasslookup.py -> build\\lib.win-amd64-cpython-312\\lxml\n",
      "      copying src\\lxml\\sax.py -> build\\lib.win-amd64-cpython-312\\lxml\n",
      "      copying src\\lxml\\usedoctest.py -> build\\lib.win-amd64-cpython-312\\lxml\n",
      "      copying src\\lxml\\_elementpath.py -> build\\lib.win-amd64-cpython-312\\lxml\n",
      "      copying src\\lxml\\__init__.py -> build\\lib.win-amd64-cpython-312\\lxml\n",
      "      creating build\\lib.win-amd64-cpython-312\\lxml\\includes\n",
      "      copying src\\lxml\\includes\\__init__.py -> build\\lib.win-amd64-cpython-312\\lxml\\includes\n",
      "      creating build\\lib.win-amd64-cpython-312\\lxml\\html\n",
      "      copying src\\lxml\\html\\builder.py -> build\\lib.win-amd64-cpython-312\\lxml\\html\n",
      "      copying src\\lxml\\html\\clean.py -> build\\lib.win-amd64-cpython-312\\lxml\\html\n",
      "      copying src\\lxml\\html\\defs.py -> build\\lib.win-amd64-cpython-312\\lxml\\html\n",
      "      copying src\\lxml\\html\\diff.py -> build\\lib.win-amd64-cpython-312\\lxml\\html\n",
      "      copying src\\lxml\\html\\ElementSoup.py -> build\\lib.win-amd64-cpython-312\\lxml\\html\n",
      "      copying src\\lxml\\html\\formfill.py -> build\\lib.win-amd64-cpython-312\\lxml\\html\n",
      "      copying src\\lxml\\html\\html5parser.py -> build\\lib.win-amd64-cpython-312\\lxml\\html\n",
      "      copying src\\lxml\\html\\soupparser.py -> build\\lib.win-amd64-cpython-312\\lxml\\html\n",
      "      copying src\\lxml\\html\\usedoctest.py -> build\\lib.win-amd64-cpython-312\\lxml\\html\n",
      "      copying src\\lxml\\html\\_diffcommand.py -> build\\lib.win-amd64-cpython-312\\lxml\\html\n",
      "      copying src\\lxml\\html\\_html5builder.py -> build\\lib.win-amd64-cpython-312\\lxml\\html\n",
      "      copying src\\lxml\\html\\_setmixin.py -> build\\lib.win-amd64-cpython-312\\lxml\\html\n",
      "      copying src\\lxml\\html\\__init__.py -> build\\lib.win-amd64-cpython-312\\lxml\\html\n",
      "      creating build\\lib.win-amd64-cpython-312\\lxml\\isoschematron\n",
      "      copying src\\lxml\\isoschematron\\__init__.py -> build\\lib.win-amd64-cpython-312\\lxml\\isoschematron\n",
      "      copying src\\lxml\\etree.h -> build\\lib.win-amd64-cpython-312\\lxml\n",
      "      copying src\\lxml\\etree_api.h -> build\\lib.win-amd64-cpython-312\\lxml\n",
      "      copying src\\lxml\\lxml.etree.h -> build\\lib.win-amd64-cpython-312\\lxml\n",
      "      copying src\\lxml\\lxml.etree_api.h -> build\\lib.win-amd64-cpython-312\\lxml\n",
      "      copying src\\lxml\\includes\\c14n.pxd -> build\\lib.win-amd64-cpython-312\\lxml\\includes\n",
      "      copying src\\lxml\\includes\\config.pxd -> build\\lib.win-amd64-cpython-312\\lxml\\includes\n",
      "      copying src\\lxml\\includes\\dtdvalid.pxd -> build\\lib.win-amd64-cpython-312\\lxml\\includes\n",
      "      copying src\\lxml\\includes\\etreepublic.pxd -> build\\lib.win-amd64-cpython-312\\lxml\\includes\n",
      "      copying src\\lxml\\includes\\htmlparser.pxd -> build\\lib.win-amd64-cpython-312\\lxml\\includes\n",
      "      copying src\\lxml\\includes\\relaxng.pxd -> build\\lib.win-amd64-cpython-312\\lxml\\includes\n",
      "      copying src\\lxml\\includes\\schematron.pxd -> build\\lib.win-amd64-cpython-312\\lxml\\includes\n",
      "      copying src\\lxml\\includes\\tree.pxd -> build\\lib.win-amd64-cpython-312\\lxml\\includes\n",
      "      copying src\\lxml\\includes\\uri.pxd -> build\\lib.win-amd64-cpython-312\\lxml\\includes\n",
      "      copying src\\lxml\\includes\\xinclude.pxd -> build\\lib.win-amd64-cpython-312\\lxml\\includes\n",
      "      copying src\\lxml\\includes\\xmlerror.pxd -> build\\lib.win-amd64-cpython-312\\lxml\\includes\n",
      "      copying src\\lxml\\includes\\xmlparser.pxd -> build\\lib.win-amd64-cpython-312\\lxml\\includes\n",
      "      copying src\\lxml\\includes\\xmlschema.pxd -> build\\lib.win-amd64-cpython-312\\lxml\\includes\n",
      "      copying src\\lxml\\includes\\xpath.pxd -> build\\lib.win-amd64-cpython-312\\lxml\\includes\n",
      "      copying src\\lxml\\includes\\xslt.pxd -> build\\lib.win-amd64-cpython-312\\lxml\\includes\n",
      "      copying src\\lxml\\includes\\__init__.pxd -> build\\lib.win-amd64-cpython-312\\lxml\\includes\n",
      "      copying src\\lxml\\includes\\etree_defs.h -> build\\lib.win-amd64-cpython-312\\lxml\\includes\n",
      "      copying src\\lxml\\includes\\lxml-version.h -> build\\lib.win-amd64-cpython-312\\lxml\\includes\n",
      "      creating build\\lib.win-amd64-cpython-312\\lxml\\isoschematron\\resources\\rng\n",
      "      copying src\\lxml\\isoschematron\\resources\\rng\\iso-schematron.rng -> build\\lib.win-amd64-cpython-312\\lxml\\isoschematron\\resources\\rng\n",
      "      creating build\\lib.win-amd64-cpython-312\\lxml\\isoschematron\\resources\\xsl\n",
      "      copying src\\lxml\\isoschematron\\resources\\xsl\\RNG2Schtrn.xsl -> build\\lib.win-amd64-cpython-312\\lxml\\isoschematron\\resources\\xsl\n",
      "      copying src\\lxml\\isoschematron\\resources\\xsl\\XSD2Schtrn.xsl -> build\\lib.win-amd64-cpython-312\\lxml\\isoschematron\\resources\\xsl\n",
      "      creating build\\lib.win-amd64-cpython-312\\lxml\\isoschematron\\resources\\xsl\\iso-schematron-xslt1\n",
      "      copying src\\lxml\\isoschematron\\resources\\xsl\\iso-schematron-xslt1\\iso_abstract_expand.xsl -> build\\lib.win-amd64-cpython-312\\lxml\\isoschematron\\resources\\xsl\\iso-schematron-xslt1\n",
      "      copying src\\lxml\\isoschematron\\resources\\xsl\\iso-schematron-xslt1\\iso_dsdl_include.xsl -> build\\lib.win-amd64-cpython-312\\lxml\\isoschematron\\resources\\xsl\\iso-schematron-xslt1\n",
      "      copying src\\lxml\\isoschematron\\resources\\xsl\\iso-schematron-xslt1\\iso_schematron_message.xsl -> build\\lib.win-amd64-cpython-312\\lxml\\isoschematron\\resources\\xsl\\iso-schematron-xslt1\n",
      "      copying src\\lxml\\isoschematron\\resources\\xsl\\iso-schematron-xslt1\\iso_schematron_skeleton_for_xslt1.xsl -> build\\lib.win-amd64-cpython-312\\lxml\\isoschematron\\resources\\xsl\\iso-schematron-xslt1\n",
      "      copying src\\lxml\\isoschematron\\resources\\xsl\\iso-schematron-xslt1\\iso_svrl_for_xslt1.xsl -> build\\lib.win-amd64-cpython-312\\lxml\\isoschematron\\resources\\xsl\\iso-schematron-xslt1\n",
      "      copying src\\lxml\\isoschematron\\resources\\xsl\\iso-schematron-xslt1\\readme.txt -> build\\lib.win-amd64-cpython-312\\lxml\\isoschematron\\resources\\xsl\\iso-schematron-xslt1\n",
      "      running build_ext\n",
      "      building 'lxml.etree' extension\n",
      "      error: Microsoft Visual C++ 14.0 or greater is required. Get it with \"Microsoft C++ Build Tools\": https://visualstudio.microsoft.com/visual-cpp-build-tools/\n",
      "      [end of output]\n",
      "  \n",
      "  note: This error originates from a subprocess, and is likely not a problem with pip.\n",
      "  ERROR: Failed building wheel for lxml\n",
      "ERROR: ERROR: Failed to build installable wheels for some pyproject.toml based projects (lxml)\n"
     ]
    },
    {
     "name": "stdout",
     "output_type": "stream",
     "text": [
      "Requirement already satisfied: lxml in c:\\users\\57322\\appdata\\local\\programs\\python\\python312\\lib\\site-packages (5.3.0)\n",
      "Requirement already satisfied: kagglehub in c:\\users\\57322\\appdata\\local\\programs\\python\\python312\\lib\\site-packages (0.3.4)\n",
      "Requirement already satisfied: packaging in c:\\users\\57322\\appdata\\roaming\\python\\python312\\site-packages (from kagglehub) (24.2)\n",
      "Requirement already satisfied: requests in c:\\users\\57322\\appdata\\local\\programs\\python\\python312\\lib\\site-packages (from kagglehub) (2.32.3)\n",
      "Requirement already satisfied: tqdm in c:\\users\\57322\\appdata\\local\\programs\\python\\python312\\lib\\site-packages (from kagglehub) (4.67.0)\n",
      "Requirement already satisfied: charset-normalizer<4,>=2 in c:\\users\\57322\\appdata\\local\\programs\\python\\python312\\lib\\site-packages (from requests->kagglehub) (3.4.0)\n",
      "Requirement already satisfied: idna<4,>=2.5 in c:\\users\\57322\\appdata\\local\\programs\\python\\python312\\lib\\site-packages (from requests->kagglehub) (3.10)\n",
      "Requirement already satisfied: urllib3<3,>=1.21.1 in c:\\users\\57322\\appdata\\local\\programs\\python\\python312\\lib\\site-packages (from requests->kagglehub) (2.2.3)\n",
      "Requirement already satisfied: certifi>=2017.4.17 in c:\\users\\57322\\appdata\\local\\programs\\python\\python312\\lib\\site-packages (from requests->kagglehub) (2024.8.30)\n",
      "Requirement already satisfied: colorama in c:\\users\\57322\\appdata\\roaming\\python\\python312\\site-packages (from tqdm->kagglehub) (0.4.6)\n"
     ]
    }
   ],
   "source": [
    "import kagglehub\n",
    "!pip install kaggle\n",
    "!pip install kaggle kaggle-cli\n",
    "!pip install lxml\n",
    "!pip install kagglehub\n",
    "\n"
   ]
  },
  {
   "cell_type": "markdown",
   "metadata": {},
   "source": [
    "##### Observar las bases de datos"
   ]
  },
  {
   "cell_type": "code",
   "execution_count": null,
   "metadata": {},
   "outputs": [
    {
     "name": "stdout",
     "output_type": "stream",
     "text": [
      "Path to dataset files: C:\\Users\\57322\\.cache\\kagglehub\\datasets\\snehangsude\\audible-dataset\\versions\\1\n",
      "Archivos en el directorio: ['audible_cleaned.csv', 'audible_uncleaned.csv']\n"
     ]
    }
   ],
   "source": [
    "import kagglehub\n",
    "# Download latest version\n",
    "path = kagglehub.dataset_download(\"snehangsude/audible-dataset\")\n",
    "print(\"Path to dataset files:\", path)\n",
    "\n",
    "import pandas as pd\n",
    "import os\n",
    "\n",
    "# Ruta del dataset descargado\n",
    "dataset_path = r\"C:\\Users\\57322\\.cache\\kagglehub\\datasets\\snehangsude\\audible-dataset\\versions\\1\"\n",
    "\n",
    "# Listar los archivos dentro del directorio\n",
    "files = os.listdir(dataset_path)\n",
    "print(\"Archivos en el directorio:\", files)\n"
   ]
  },
  {
   "cell_type": "code",
   "execution_count": 54,
   "metadata": {},
   "outputs": [],
   "source": [
    "\n",
    "# Cargar el dataset original (sin limpiar)\n",
    "original_file_path = os.path.join(dataset_path, \"audible_uncleaned.csv\")\n",
    "df = pd.read_csv(original_file_path)\n",
    "\n",
    "# Cargar el dataset limpio en cleaned_df\n",
    "cleaned_file_path = os.path.join(dataset_path, \"audible_cleaned.csv\")\n",
    "cleaned_df = pd.read_csv(cleaned_file_path)\n",
    "\n"
   ]
  },
  {
   "cell_type": "code",
   "execution_count": 55,
   "metadata": {},
   "outputs": [
    {
     "name": "stdout",
     "output_type": "stream",
     "text": [
      "\n",
      "Dataset sin limpiar (df):\n",
      "                                         name                     author  \\\n",
      "0                  Geronimo Stilton #11 & #12  Writtenby:GeronimoStilton   \n",
      "1                            The Burning Maze      Writtenby:RickRiordan   \n",
      "2                                The Deep End       Writtenby:JeffKinney   \n",
      "3                        Daughter of the Deep      Writtenby:RickRiordan   \n",
      "4  The Lightning Thief: Percy Jackson, Book 1      Writtenby:RickRiordan   \n",
      "\n",
      "                    narrator                time releasedate language  \\\n",
      "0      Narratedby:BillLobely   2 hrs and 20 mins    04-08-08  English   \n",
      "1   Narratedby:RobbieDaymond   13 hrs and 8 mins    01-05-18  English   \n",
      "2      Narratedby:DanRussell    2 hrs and 3 mins    06-11-20  English   \n",
      "3  Narratedby:SoneelaNankani  11 hrs and 16 mins    05-10-21  English   \n",
      "4  Narratedby:JesseBernstein              10 hrs    13-01-10  English   \n",
      "\n",
      "                           stars   price  \n",
      "0     5 out of 5 stars34 ratings  468.00  \n",
      "1   4.5 out of 5 stars41 ratings  820.00  \n",
      "2   4.5 out of 5 stars38 ratings  410.00  \n",
      "3   4.5 out of 5 stars12 ratings  615.00  \n",
      "4  4.5 out of 5 stars181 ratings  820.00  \n",
      "\n",
      "Dataset limpio (cleaned_df):\n",
      "                                         name           author  \\\n",
      "0                  Geronimo Stilton #11 & #12  GeronimoStilton   \n",
      "1                            The Burning Maze      RickRiordan   \n",
      "2                                The Deep End       JeffKinney   \n",
      "3                        Daughter of the Deep      RickRiordan   \n",
      "4  The Lightning Thief: Percy Jackson, Book 1      RickRiordan   \n",
      "\n",
      "         narrator  time releasedate language  stars  price  ratings  \n",
      "0      BillLobely   140  2008-04-08  English    5.0  468.0     34.0  \n",
      "1   RobbieDaymond   788  2018-01-05  English    4.5  820.0     41.0  \n",
      "2      DanRussell   123  2020-06-11  English    4.5  410.0     38.0  \n",
      "3  SoneelaNankani   676  2021-05-10  English    4.5  615.0     12.0  \n",
      "4  JesseBernstein   600  2010-01-13  English    4.5  820.0    181.0  \n"
     ]
    }
   ],
   "source": [
    "# Mostrar las primeras filas de ambos datasets\n",
    "print(\"\\nDataset sin limpiar (df):\")\n",
    "print(df.head())\n",
    "\n",
    "print(\"\\nDataset limpio (cleaned_df):\")\n",
    "print(cleaned_df.head())"
   ]
  },
  {
   "cell_type": "markdown",
   "metadata": {},
   "source": [
    "##### 1)  Cambiar el formato de hora y minuto hacia minutos totales"
   ]
  },
  {
   "cell_type": "code",
   "execution_count": 60,
   "metadata": {},
   "outputs": [
    {
     "name": "stdout",
     "output_type": "stream",
     "text": [
      "0    140\n",
      "1    788\n",
      "2    123\n",
      "3    676\n",
      "4    600\n",
      "Name: time, dtype: int64\n"
     ]
    }
   ],
   "source": [
    "def convert_time_to_minutes(time_str):\n",
    "    # Si el valor es un entero,  se devuelve  tal cual.\n",
    "    if isinstance(time_str, int):  # Si time_str es un número entero\n",
    "        return time_str  # Devuelve directamente el valor, ya que no requiere conversión.\n",
    "    \n",
    "    # Si el valor es NaN, \n",
    "    if pd.isnull(time_str):  # Si time_str es NaN (Not a Number), es decir, no tiene valor\n",
    "        return 0  # Devuelve 0, ya que no hay tiempo que convertir.\n",
    "    \n",
    "    # Asegurarse de que 'time_str' sea una cadena\n",
    "    time_str = str(time_str)  # Convierte el valor de time_str a string para garantizar que sea procesable.\n",
    "\n",
    "    hours = 0  # Inicializa las horas en 0.\n",
    "    minutes = 0  # Inicializa los minutos en 0.\n",
    "\n",
    "    # Eliminamos el \"and\" que puede estar presente y luego dividimos la cadena por los espacios.\n",
    "    parts = time_str.replace('and', '').split() \n",
    "    \n",
    "    for i, part in enumerate(parts):  # Recorre cada parte de la lista de partes.\n",
    "        if 'hr' in part:  # Si la parte contiene 'hr', es una indicación de horas.\n",
    "            # Si hay un número antes de 'hr', se asigna a hours; si no, se asigna 0.\n",
    "            hours = int(parts[i - 1]) if i > 0 else 0  \n",
    "        elif 'min' in part:  # Si la parte contiene 'min', es una indicación de minutos.\n",
    "            # Si hay un número antes de 'min', es a minutes; si no, se asigna 0.\n",
    "            minutes = int(parts[i - 1]) if i > 0 else 0  \n",
    "\n",
    "    # Devuelve el total de minutos (horas convertidas a minutos + minutos).\n",
    "    return hours * 60 + minutes  # Calcula y devuelve el total de minutos: horas * 60 + minutos.\n",
    "\n",
    "# Limpiar la columna 'time' convirtiendo a minutos\n",
    "df['time'] = df['time'].apply(convert_time_to_minutes)  # Aplicar la función a toda la columna 'time' del DataFrame\n",
    "\n",
    "# Mostrar las primeras filas de la columna 'time' para verificar la conversión\n",
    "print(df['time'].head())  # Observar las primeras 5 filas para verificar cómo quedó la conversión.\n",
    "\n"
   ]
  },
  {
   "cell_type": "markdown",
   "metadata": {},
   "source": [
    "##### 2) Al principio de la columnas Autor y Narrador, se elimina el prefijo \"Writtenby\" y \"Narratedby\", de forma correspondiente"
   ]
  },
  {
   "cell_type": "code",
   "execution_count": 76,
   "metadata": {},
   "outputs": [
    {
     "name": "stdout",
     "output_type": "stream",
     "text": [
      "             author         narrator\n",
      "0  Geronimo Stilton      Bill Lobely\n",
      "1      Rick Riordan   Robbie Daymond\n",
      "2       Jeff Kinney      Dan Russell\n",
      "3      Rick Riordan  Soneela Nankani\n",
      "4      Rick Riordan  Jesse Bernstein\n"
     ]
    }
   ],
   "source": [
    "# Limpiar la columna 'author' eliminando la cadena \"Writtenby:\"\n",
    "df['author'] = df['author'].str.replace('Writtenby:', '', regex=False)\n",
    "\n",
    "# Limpiar la columna 'narrator' eliminando la cadena \"Narratedby:\"\n",
    "df['narrator'] = df['narrator'].str.replace('Narratedby:', '', regex=False)\n",
    "print(df[['author', 'narrator']].head())"
   ]
  },
  {
   "cell_type": "markdown",
   "metadata": {},
   "source": [
    "##### 3. Extraer el número de estrellas y el número de valoraciones de la columna stars"
   ]
  },
  {
   "cell_type": "code",
   "execution_count": 65,
   "metadata": {},
   "outputs": [
    {
     "name": "stderr",
     "output_type": "stream",
     "text": [
      "<>:16: SyntaxWarning: invalid escape sequence '\\d'\n",
      "<>:16: SyntaxWarning: invalid escape sequence '\\d'\n",
      "C:\\Users\\57322\\AppData\\Local\\Temp\\ipykernel_8488\\398096750.py:16: SyntaxWarning: invalid escape sequence '\\d'\n",
      "  df['ratings'] = df['ratings'].str.extract('(\\d+)').astype(float)\n"
     ]
    },
    {
     "name": "stdout",
     "output_type": "stream",
     "text": [
      "     0\n",
      "0  5.0\n",
      "1  4.5\n",
      "2  4.5\n",
      "3  4.5\n",
      "4  4.5\n",
      "   stars  ratings\n",
      "0    5.0      NaN\n",
      "1    4.5      NaN\n",
      "2    4.5      NaN\n",
      "3    4.5      NaN\n",
      "4    4.5      NaN\n"
     ]
    }
   ],
   "source": [
    "# Asegurarse de que la columna 'stars' esté en formato de cadena\n",
    "df['stars'] = df['stars'].astype(str)\n",
    "\n",
    "# Separar la columna 'stars' en partes\n",
    "stars_and_ratings = df['stars'].str.split(' ', expand=True)\n",
    "\n",
    "# Verificar la longitud de las filas\n",
    "print(stars_and_ratings.head())\n",
    "\n",
    "# Comprobar si hay filas con menos de 5 partes y manejarlas\n",
    "df['stars'] = stars_and_ratings[0]  # La primera parte es 'stars'\n",
    "# Usamos `.get()` para evitar el KeyError si no hay suficientes partes\n",
    "df['ratings'] = stars_and_ratings.get(4, pd.NA)  # Si no hay quinta parte, asignamos pd.NA\n",
    "\n",
    "# Limpiar la columna 'ratings' para extraer solo los números\n",
    "df['ratings'] = df['ratings'].str.extract('(\\d+)').astype(float)\n",
    "\n",
    "# Limpiar la columna 'stars' reemplazando 'Not' por 0 y convirtiéndola a float\n",
    "df['stars'] = df['stars'].replace('Not', 0).astype(float)\n",
    "\n",
    "# Ver las primeras filas para verificar los cambios\n",
    "print(df[['stars', 'ratings']].head())\n",
    "\n",
    "\n"
   ]
  },
  {
   "cell_type": "markdown",
   "metadata": {},
   "source": [
    "##### 4. Separar los nombres y apellidos, así como asignarle mayúsculas a las columnas los autores y los narradores"
   ]
  },
  {
   "cell_type": "code",
   "execution_count": 78,
   "metadata": {},
   "outputs": [
    {
     "name": "stdout",
     "output_type": "stream",
     "text": [
      "0    Geronimo Stilton\n",
      "1        Rick Riordan\n",
      "2         Jeff Kinney\n",
      "3        Rick Riordan\n",
      "4        Rick Riordan\n",
      "Name: author, dtype: object\n",
      "0        Bill Lobely\n",
      "1     Robbie Daymond\n",
      "2        Dan Russell\n",
      "3    Soneela Nankani\n",
      "4    Jesse Bernstein\n",
      "Name: narrator, dtype: object\n"
     ]
    }
   ],
   "source": [
    "\n",
    "# Agregar un espacio entre las letras minúsculas y mayúsculas en las columnas 'author' y 'narrator'\n",
    "df['author'] = df['author'].str.replace(r'([a-z])([A-Z])', r'\\1 \\2', regex=True)\n",
    "df['narrator'] = df['narrator'].str.replace(r'([a-z])([A-Z])', r'\\1 \\2', regex=True)\n",
    "\n",
    "# Mostrar los primeros valores de las columnas\n",
    "print(df['author'].head())\n",
    "print(df[ \"narrator\"].head())\n",
    "\n"
   ]
  },
  {
   "cell_type": "markdown",
   "metadata": {},
   "source": [
    "##### 5. Alteraciones a la columna price"
   ]
  },
  {
   "cell_type": "code",
   "execution_count": null,
   "metadata": {},
   "outputs": [
    {
     "name": "stdout",
     "output_type": "stream",
     "text": [
      "0        468.0\n",
      "1        820.0\n",
      "2        410.0\n",
      "3        615.0\n",
      "4        820.0\n",
      "         ...  \n",
      "87484    596.0\n",
      "87485    820.0\n",
      "87486    938.0\n",
      "87487    680.0\n",
      "87488    569.0\n",
      "Name: price, Length: 87489, dtype: float64\n"
     ]
    }
   ],
   "source": [
    "# Convertir a string\n",
    "df['price'] = df['price'].astype(str)\n",
    "\n",
    "# Reemplazar 'Free' por '0' para representar los productos gratuitos como cero\n",
    "df['price'] = df['price'].replace('Free', '0')\n",
    "\n",
    "# Eliminar las comas de los valores en la columna 'price'\n",
    "df['price'] = df['price'].str.replace(',', '')\n",
    "\n",
    "# Convertir la columna 'price' a tipo float para análisis numérico\n",
    "df['price'] = df['price'].astype(float)\n",
    "\n",
    "# Verificar los primeros valores de la columna 'price' después de la limpieza\n",
    "print(df['price'])"
   ]
  }
 ],
 "metadata": {
  "kernelspec": {
   "display_name": "Python 3",
   "language": "python",
   "name": "python3"
  },
  "language_info": {
   "codemirror_mode": {
    "name": "ipython",
    "version": 3
   },
   "file_extension": ".py",
   "mimetype": "text/x-python",
   "name": "python",
   "nbconvert_exporter": "python",
   "pygments_lexer": "ipython3",
   "version": "3.12.4"
  }
 },
 "nbformat": 4,
 "nbformat_minor": 2
}
